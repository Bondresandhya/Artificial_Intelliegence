{
 "cells": [
  {
   "cell_type": "markdown",
   "metadata": {
    "id": "z3N_sdd8-wbP"
   },
   "source": [
    "# Problem Statement:-\n",
    "## Implement depth first search algorithm and Breadth First Search algorithm. Use an undirected graph and develop a recursive algorithm for searching all the vertices of a graph or tree data structure."
   ]
  },
  {
   "cell_type": "code",
   "execution_count": null,
   "metadata": {
    "colab": {
     "base_uri": "https://localhost:8080/"
    },
    "id": "E-YnLigF-kI4",
    "outputId": "85f87f96-dca7-41c6-d408-e1e5c181b57b"
   },
   "outputs": [
    {
     "name": "stdout",
     "output_type": "stream",
     "text": [
      "Enter the number of nodes: 7\n",
      "Enter value for edge between0and0 :999\n",
      "Enter value for edge between0and1 :1\n",
      "Enter value for edge between0and2 :1\n",
      "Enter value for edge between0and3 :999\n",
      "Enter value for edge between0and4 :999\n",
      "Enter value for edge between0and5 :999\n",
      "Enter value for edge between0and6 :999\n",
      "Enter value for edge between1and0 :1\n",
      "Enter value for edge between1and1 :999\n",
      "Enter value for edge between1and2 :999\n",
      "Enter value for edge between1and3 :1\n",
      "Enter value for edge between1and4 :999\n",
      "Enter value for edge between1and5 :999\n",
      "Enter value for edge between1and6 :999\n",
      "Enter value for edge between2and0 :1\n",
      "Enter value for edge between2and1 :999\n",
      "Enter value for edge between2and2 :999\n",
      "Enter value for edge between2and3 :999\n",
      "Enter value for edge between2and4 :999\n",
      "Enter value for edge between2and5 :999\n",
      "Enter value for edge between2and6 :999\n",
      "Enter value for edge between3and0 :999\n",
      "Enter value for edge between3and1 :1\n",
      "Enter value for edge between3and2 :999\n",
      "Enter value for edge between3and3 :999\n",
      "Enter value for edge between3and4 :1\n",
      "Enter value for edge between3and5 :1\n",
      "Enter value for edge between3and6 :999\n",
      "Enter value for edge between4and0 :999\n",
      "Enter value for edge between4and1 :999\n",
      "Enter value for edge between4and2 :999\n",
      "Enter value for edge between4and3 :1\n",
      "Enter value for edge between4and4 :999\n",
      "Enter value for edge between4and5 :999\n",
      "Enter value for edge between4and6 :1\n",
      "Enter value for edge between5and0 :999\n",
      "Enter value for edge between5and1 :999\n",
      "Enter value for edge between5and2 :999\n",
      "Enter value for edge between5and3 :1\n",
      "Enter value for edge between5and4 :999\n",
      "Enter value for edge between5and5 :999\n",
      "Enter value for edge between5and6 :1\n",
      "Enter value for edge between6and0 :999\n",
      "Enter value for edge between6and1 :999\n",
      "Enter value for edge between6and2 :999\n",
      "Enter value for edge between6and3 :999\n",
      "Enter value for edge between6and4 :1\n",
      "Enter value for edge between6and5 :1\n",
      "Enter value for edge between6and6 :999\n",
      "[[999, 1, 1, 999, 999, 999, 999], [1, 999, 999, 1, 999, 999, 999], [1, 999, 999, 999, 999, 999, 999], [999, 1, 999, 999, 1, 1, 999], [999, 999, 999, 1, 999, 999, 1], [999, 999, 999, 1, 999, 999, 1], [999, 999, 999, 999, 1, 1, 999]]\n"
     ]
    }
   ],
   "source": [
    "matrix=[]\n",
    "n=int(input(\"Enter the number of nodes: \"))\n",
    "for i in range (n):\n",
    "    a=[]\n",
    "    for j in range (n):\n",
    "        val=int(input(\"Enter value for edge between\"+str(i)+\"and\"+str(j)+\" :\"))\n",
    "        a.append(val)\n",
    "    matrix.append(a)\n",
    "print(matrix)"
   ]
  },
  {
   "cell_type": "code",
   "execution_count": null,
   "metadata": {
    "id": "13S6uNZ9_Njm"
   },
   "outputs": [],
   "source": [
    "#  row = 4\n",
    "#  nodes = 4\n",
    "\n",
    "#  matrix = [[999, 1, 1, 999, 999, 999, 999],\n",
    "#             [1, 999, 999, 1, 999, 999, 999],\n",
    "#             [1, 999, 999, 999, 999, 999, 999],\n",
    "#             [999, 1, 999, 999, 1, 1, 999],\n",
    "#             [999, 999, 999, 1, 999, 999, 1],\n",
    "#             [999, 999, 999, 1, 999, 999, 1],\n",
    "#             [999, 999, 999, 999, 1, 1, 999]]\n"
   ]
  },
  {
   "cell_type": "code",
   "execution_count": null,
   "metadata": {
    "colab": {
     "base_uri": "https://localhost:8080/"
    },
    "id": "8DFC9qguDsFw",
    "outputId": "27cec078-ab90-4da2-8791-740cf7881076"
   },
   "outputs": [
    {
     "name": "stdout",
     "output_type": "stream",
     "text": [
      "Enter the starting node : 0\n",
      "0\n",
      "1\n",
      "3\n",
      "4\n",
      "6\n",
      "5\n",
      "2\n"
     ]
    }
   ],
   "source": [
    "stack = []\n",
    "\n",
    "def dfs(start,n):\n",
    "    if start not in stack:\n",
    "        stack.append(start)\n",
    "        print(start)\n",
    "\n",
    "        for i in range(n):\n",
    "            if ( matrix[start][i] == 1 and i not in stack):\n",
    "                dfs(i,n) # recursive call\n",
    "    return\n",
    "\n",
    "\n",
    "s=int(input(\"Enter the starting node : \"))\n",
    "dfs(s,n)\n",
    "#print(stack)"
   ]
  },
  {
   "cell_type": "code",
   "execution_count": null,
   "metadata": {
    "colab": {
     "base_uri": "https://localhost:8080/"
    },
    "id": "MxvqomX2Dt4O",
    "outputId": "72fdfd48-05f4-4252-b3ae-d104f075e301"
   },
   "outputs": [
    {
     "name": "stdout",
     "output_type": "stream",
     "text": [
      "Enter the starting node : 0\n",
      "0\n",
      "1\n",
      "2\n",
      "3\n",
      "4\n",
      "5\n",
      "6\n",
      "[0, 1, 2, 3, 4, 5, 6]\n"
     ]
    }
   ],
   "source": [
    "queue = []\n",
    "visited = []\n",
    "def bfs(start,nodes):\n",
    "    if start not in visited:\n",
    "\n",
    "        if start not in queue:\n",
    "            queue.append(start)\n",
    "        print(start)\n",
    "\n",
    "        for i in range(nodes):\n",
    "\n",
    "            if(matrix[start][i] == 1 and i not in queue and i not in visited):\n",
    "                #working = i\n",
    "                #print(\"working=\",working)\n",
    "                queue.append(i)\n",
    "\n",
    "\n",
    "        #print(visited)\n",
    "\n",
    "        visited.append(queue[0])\n",
    "        queue.pop(0)\n",
    "        #print(queue)\n",
    "        if queue:\n",
    "            bfs(queue[0],nodes)\n",
    "s=int(input(\"Enter the starting node : \"))\n",
    "bfs(s,n)\n",
    "print(visited)"
   ]
  }
 ],
 "metadata": {
  "colab": {
   "provenance": []
  },
  "kernelspec": {
   "display_name": "Python 3 (ipykernel)",
   "language": "python",
   "name": "python3"
  },
  "language_info": {
   "codemirror_mode": {
    "name": "ipython",
    "version": 3
   },
   "file_extension": ".py",
   "mimetype": "text/x-python",
   "name": "python",
   "nbconvert_exporter": "python",
   "pygments_lexer": "ipython3",
   "version": "3.9.7"
  }
 },
 "nbformat": 4,
 "nbformat_minor": 1
}
