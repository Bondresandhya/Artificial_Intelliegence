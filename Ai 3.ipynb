{
 "cells": [
  {
   "cell_type": "markdown",
   "id": "c5c42caf",
   "metadata": {},
   "source": [
    "# Problem Statement:-\n",
    "### Implement Alpha-Beta Tree search for any game search problem."
   ]
  },
  {
   "cell_type": "code",
   "execution_count": 1,
   "id": "6ba821cf",
   "metadata": {},
   "outputs": [],
   "source": [
    "import math\n",
    "# maximum = 999\n",
    "# minimum = -999"
   ]
  },
  {
   "cell_type": "code",
   "execution_count": 2,
   "id": "d78f04b1",
   "metadata": {},
   "outputs": [],
   "source": [
    "def fun(d, node, maxP, v, A, B,td):\n",
    "    if (d==td):\n",
    "        return v[node]\n",
    "    if maxP:\n",
    "        #print(\"i m in alpha before\")\n",
    "        for i in range(2):\n",
    "            value = fun(d+1,node*2+i, False, v, A, B,td)\n",
    "            A= max(A, value)\n",
    "            if B<=A:\n",
    "                break\n",
    "        return A\n",
    "    else:\n",
    "        #print(\"i m in beta before\")\n",
    "        for i in range(2):\n",
    "            value = fun(d+1, node*2+i, True, v, A, B,td)\n",
    "            B = min(B, value)\n",
    "            if B<=A:\n",
    "                break\n",
    "        return B"
   ]
  },
  {
   "cell_type": "code",
   "execution_count": 3,
   "id": "6e0fab67",
   "metadata": {},
   "outputs": [
    {
     "name": "stdout",
     "output_type": "stream",
     "text": [
      "ans =  5\n"
     ]
    }
   ],
   "source": [
    "#scr = [3,4,2,1,7,8,9,10,2,11,1,12,14,9,13,16]\n",
    "scr = [3,5,6,9,1,2,0,-1]\n",
    "td = math.log(len(scr),2)\n",
    "d = 0\n",
    "node = 0\n",
    "print(\"ans = \" , fun(d,node,True, scr, -999, 999 , td))"
   ]
  },
  {
   "cell_type": "code",
   "execution_count": null,
   "id": "55e91545",
   "metadata": {},
   "outputs": [],
   "source": []
  }
 ],
 "metadata": {
  "kernelspec": {
   "display_name": "Python 3 (ipykernel)",
   "language": "python",
   "name": "python3"
  },
  "language_info": {
   "codemirror_mode": {
    "name": "ipython",
    "version": 3
   },
   "file_extension": ".py",
   "mimetype": "text/x-python",
   "name": "python",
   "nbconvert_exporter": "python",
   "pygments_lexer": "ipython3",
   "version": "3.9.7"
  }
 },
 "nbformat": 4,
 "nbformat_minor": 5
}
