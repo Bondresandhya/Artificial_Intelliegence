{
 "cells": [
  {
   "cell_type": "markdown",
   "id": "9d5530f2",
   "metadata": {},
   "source": [
    "# Problem Statement:-\n",
    "### Minimum Spanning Tree"
   ]
  },
  {
   "cell_type": "code",
   "execution_count": 1,
   "id": "9f31b0cc",
   "metadata": {},
   "outputs": [
    {
     "name": "stdout",
     "output_type": "stream",
     "text": [
      "Enter the number of nodes: 4\n",
      "Enter value for edge between 0 and 0 :99\n",
      "Enter value for edge between 0 and 1 :2\n",
      "Enter value for edge between 0 and 2 :5\n",
      "Enter value for edge between 0 and 3 :3\n",
      "Enter value for edge between 1 and 0 :2\n",
      "Enter value for edge between 1 and 1 :99\n",
      "Enter value for edge between 1 and 2 :99\n",
      "Enter value for edge between 1 and 3 :7\n",
      "Enter value for edge between 2 and 0 :5\n",
      "Enter value for edge between 2 and 1 :99\n",
      "Enter value for edge between 2 and 2 :99\n",
      "Enter value for edge between 2 and 3 :8\n",
      "Enter value for edge between 3 and 0 :3\n",
      "Enter value for edge between 3 and 1 :8\n",
      "Enter value for edge between 3 and 2 :7\n",
      "Enter value for edge between 3 and 3 :99\n",
      "[[99  2  5  3]\n",
      " [ 2 99 99  7]\n",
      " [ 5 99 99  8]\n",
      " [ 3  8  7 99]]\n"
     ]
    }
   ],
   "source": [
    "import numpy as np\n",
    "matrix=[]\n",
    "n=int(input(\"Enter the number of nodes: \"))\n",
    "for i in range(n):\n",
    "    a=[]\n",
    "    for j in range(n):\n",
    "        val=int(input(\"Enter value for edge between \"+str(i)+\" and \"+str(j)+\" :\"))\n",
    "        a.append(val)\n",
    "    matrix.append(a)\n",
    "arr=np.array(matrix)\n",
    "print(arr)\n",
    "# matrix = []\n",
    "# row = 4\n",
    "# nodes = 4\n",
    "\n",
    "# matrix = [\n",
    "#     [99,2,5,3],\n",
    "#     [2,99,99,7],\n",
    "#     [5,99,99,8],\n",
    "#     [3,7,8,99]\n",
    "# ]"
   ]
  },
  {
   "cell_type": "code",
   "execution_count": 2,
   "id": "bb811244",
   "metadata": {},
   "outputs": [
    {
     "name": "stdout",
     "output_type": "stream",
     "text": [
      "Enter the starting node : 2\n",
      "minimum value selected =  5\n",
      "Total cost =  5\n",
      "endNode selected =  0\n",
      "minimum value selected =  2\n",
      "Total cost =  7\n",
      "endNode selected =  1\n",
      "minimum value selected =  3\n",
      "Total cost =  10\n",
      "endNode selected =  3\n"
     ]
    }
   ],
   "source": [
    "notVisited = []\n",
    "for i in range(n):\n",
    "    notVisited.append(i)\n",
    "visited = []\n",
    "q = -1\n",
    "start =int(input(\"Enter the starting node : \"))\n",
    "cost = 0\n",
    "visited.append(start)\n",
    "notVisited.pop(start)\n",
    "def MST(cost):\n",
    "\n",
    "    mini = 9999\n",
    "    for i in visited:\n",
    "        for j in notVisited:\n",
    "\n",
    "            if (matrix[i][j] != 99 and mini > matrix[i][j]) :\n",
    "                mini = matrix[i][j]\n",
    "                q = j\n",
    "\n",
    "    cost = cost + mini\n",
    "    print(\"minimum value selected = \",mini)\n",
    "    print(\"Total cost = \",cost)\n",
    "    print(\"endNode selected = \",q)\n",
    "    visited.append(q)\n",
    "    notVisited.remove(q)\n",
    "    if notVisited:\n",
    "        MST(cost)\n",
    "\n",
    "MST(cost)\n"
   ]
  },
  {
   "cell_type": "code",
   "execution_count": null,
   "id": "fed73c81",
   "metadata": {},
   "outputs": [],
   "source": []
  }
 ],
 "metadata": {
  "kernelspec": {
   "display_name": "Python 3 (ipykernel)",
   "language": "python",
   "name": "python3"
  },
  "language_info": {
   "codemirror_mode": {
    "name": "ipython",
    "version": 3
   },
   "file_extension": ".py",
   "mimetype": "text/x-python",
   "name": "python",
   "nbconvert_exporter": "python",
   "pygments_lexer": "ipython3",
   "version": "3.9.7"
  }
 },
 "nbformat": 4,
 "nbformat_minor": 5
}
